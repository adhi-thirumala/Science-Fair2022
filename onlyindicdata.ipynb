{
  "nbformat": 4,
  "nbformat_minor": 0,
  "metadata": {
    "colab": {
      "name": "Untitled4.ipynb",
      "provenance": [],
      "authorship_tag": "ABX9TyPP4lxGpIZovyGJACGtv1c7",
      "include_colab_link": true
    },
    "kernelspec": {
      "name": "python3",
      "display_name": "Python 3"
    },
    "language_info": {
      "name": "python"
    }
  },
  "cells": [
    {
      "cell_type": "markdown",
      "metadata": {
        "id": "view-in-github",
        "colab_type": "text"
      },
      "source": [
        "<a href=\"https://colab.research.google.com/github/adhi-thirumala/Science-Fair2022/blob/main/onlyindicdata.ipynb\" target=\"_parent\"><img src=\"https://colab.research.google.com/assets/colab-badge.svg\" alt=\"Open In Colab\"/></a>"
      ]
    },
    {
      "cell_type": "code",
      "execution_count": null,
      "metadata": {
        "id": "r-OBTFKQWwRV"
      },
      "outputs": [],
      "source": [
        "!pip install collections\n",
        "!pip install datasets\n",
        "!pip install transformers[sentencepiece]\n",
        "!pip install tensorboard\n",
        "from tqdm.auto import tqdm\n",
        "import numpy as np\n",
        "import pandas as pd\n",
        "from datasets import Dataset\n",
        "from transformers import AutoModelForQuestionAnswering, TrainingArguments, Trainer, AutoTokenizer, default_data_collator\n",
        "import collections\n",
        "import os\n",
        "import sys\n",
        "from google.colab import drive\n",
        "drive.mount('/content/drive')\n",
        "os.environ[\"CUDA_VISIBLE_DEVICES\"] = '0'\n",
        "os.environ[\"WANDB_DISABLED\"] = 'True'\n",
        " \n",
        "\n",
        "BASE_PATH = \"/content/drive/MyDrive/\"\n"
      ]
    },
    {
      "cell_type": "code",
      "source": [
        "os.getcwd()"
      ],
      "metadata": {
        "id": "ILcF0tW9cJ20"
      },
      "execution_count": null,
      "outputs": []
    },
    {
      "cell_type": "code",
      "source": [
        "from transformers import AutoModel, AutoTokenizer\n",
        "\n",
        "hindi_tokenizer = AutoTokenizer.from_pretrained(BASE_PATH + \"roberta-large-wechsel-hindi\")\n",
        "hindi_model = AutoModel.from_pretrained(BASE_PATH + \"roberta-large-wechsel-hindi\")\n",
        "\n",
        "tamil_tokenizer = AutoTokenizer.from_pretrained(BASE_PATH + \"roberta-large-wechsel-tamil\")\n",
        "tamil_model = AutoModel.from_pretrained(BASE_PATH + \"roberta-large-wechsel-tamil\")\n"
      ],
      "metadata": {
        "id": "VDpa4iVHcLVr"
      },
      "execution_count": null,
      "outputs": []
    },
    {
      "cell_type": "code",
      "source": [
        "df_train_base = pd.read_csv(BASE_PATH + \"train.csv\")\n",
        "df_test = pd.read_csv(BASE_PATH + \"test.csv\")\n",
        "df_sub = pd.read_csv(BASE_PATH + \"sample_submission.csv\")"
      ],
      "metadata": {
        "id": "i9IPP0TPcfOs"
      },
      "execution_count": null,
      "outputs": []
    }
  ]
}