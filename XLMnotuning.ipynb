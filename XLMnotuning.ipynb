{
  "nbformat": 4,
  "nbformat_minor": 0,
  "metadata": {
    "colab": {
      "name": "Untitled2.ipynb",
      "provenance": [],
      "private_outputs": true,
      "authorship_tag": "ABX9TyPKTr/8gehO9qVz7nfjqXkn",
      "include_colab_link": true
    },
    "kernelspec": {
      "name": "python3",
      "display_name": "Python 3"
    },
    "language_info": {
      "name": "python"
    }
  },
  "cells": [
    {
      "cell_type": "markdown",
      "metadata": {
        "id": "view-in-github",
        "colab_type": "text"
      },
      "source": [
        "<a href=\"https://colab.research.google.com/github/adhi-thirumala/Science-Fair2022/blob/main/XLMnotuning.ipynb\" target=\"_parent\"><img src=\"https://colab.research.google.com/assets/colab-badge.svg\" alt=\"Open In Colab\"/></a>"
      ]
    },
    {
      "cell_type": "code",
      "source": [
        "!pip install sentencepiece"
      ],
      "metadata": {
        "id": "l1Ec5AMDkU4_"
      },
      "execution_count": null,
      "outputs": []
    },
    {
      "cell_type": "code",
      "source": [
        "import torch\n",
        "import transformers\n",
        "from transformers.pipelines import pipeline\n",
        "from transformers.models.auto.modeling_auto import AutoModelForQuestionAnswering\n",
        "from transformers.models.auto.tokenization_auto import AutoTokenizer\n",
        "import sentencepiece"
      ],
      "metadata": {
        "id": "aWaI96e6idx6"
      },
      "execution_count": null,
      "outputs": []
    },
    {
      "cell_type": "code",
      "execution_count": null,
      "metadata": {
        "id": "F5PtgQTuLc2N"
      },
      "outputs": [],
      "source": [
        "torch.cuda.is_available()"
      ]
    },
    {
      "cell_type": "code",
      "source": [
        "\n",
        "\n",
        "model_name = \"deepset/xlm-roberta-base-squad2\"\n",
        "\n",
        "# a) Get predictions\n",
        "nlp = pipeline('question-answering', model=model_name, tokenizer=model_name)\n",
        "\n",
        "\n"
      ],
      "metadata": {
        "id": "hoq7MI9QjV-b"
      },
      "execution_count": null,
      "outputs": []
    },
    {
      "cell_type": "code",
      "source": [
        "QA_input = {\n",
        "    'question': 'Who is joe?',\n",
        "    'context': 'Joe isn\\'t a farmer.'\n",
        "}\n",
        "res = nlp(QA_input)\n",
        "\n",
        "print(res)"
      ],
      "metadata": {
        "id": "Ko4RaZNmlEfX"
      },
      "execution_count": null,
      "outputs": []
    },
    {
      "cell_type": "code",
      "source": [
        ""
      ],
      "metadata": {
        "id": "EbqpDenqlFK3"
      },
      "execution_count": null,
      "outputs": []
    }
  ]
}